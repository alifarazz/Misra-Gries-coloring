{
 "cells": [
  {
   "cell_type": "code",
   "execution_count": 1,
   "id": "fc3865ec-fc92-4d57-96b8-e5d527ebb287",
   "metadata": {},
   "outputs": [
    {
     "name": "stdout",
     "output_type": "stream",
     "text": [
      "Requirement already satisfied: matplotlib in ./MG-env/lib/python3.9/site-packages (3.4.2)\n",
      "Requirement already satisfied: networkx in ./MG-env/lib/python3.9/site-packages (2.5.1)\n",
      "Requirement already satisfied: kiwisolver>=1.0.1 in ./MG-env/lib/python3.9/site-packages (from matplotlib) (1.3.1)\n",
      "Requirement already satisfied: pyparsing>=2.2.1 in ./MG-env/lib/python3.9/site-packages (from matplotlib) (2.4.7)\n",
      "Requirement already satisfied: numpy>=1.16 in /usr/lib/python3.9/site-packages (from matplotlib) (1.20.3)\n",
      "Requirement already satisfied: cycler>=0.10 in ./MG-env/lib/python3.9/site-packages (from matplotlib) (0.10.0)\n",
      "Requirement already satisfied: pillow>=6.2.0 in ./MG-env/lib/python3.9/site-packages (from matplotlib) (8.2.0)\n",
      "Requirement already satisfied: python-dateutil>=2.7 in ./MG-env/lib/python3.9/site-packages (from matplotlib) (2.8.1)\n",
      "Requirement already satisfied: six in ./MG-env/lib/python3.9/site-packages (from cycler>=0.10->matplotlib) (1.16.0)\n",
      "Requirement already satisfied: decorator<5,>=4.3 in ./MG-env/lib/python3.9/site-packages (from networkx) (4.4.2)\n"
     ]
    }
   ],
   "source": [
    "!pip install matplotlib networkx"
   ]
  },
  {
   "cell_type": "code",
   "execution_count": 2,
   "id": "b07b9cdf-4469-4d59-8f75-17afad6f7bed",
   "metadata": {},
   "outputs": [],
   "source": [
    "# from time import sleep"
   ]
  },
  {
   "cell_type": "code",
   "execution_count": 3,
   "id": "1388671c-b1d7-4691-ad88-3fb79ac45b7e",
   "metadata": {},
   "outputs": [],
   "source": [
    "from typing import Sequence, Tuple\n",
    "\n",
    "import matplotlib.cm\n",
    "import networkx as nx\n",
    "\n",
    "NodeType = str\n",
    "ColorType = int\n",
    "EdgeType = Tuple[NodeType, NodeType]\n",
    "FanType = Sequence[NodeType]"
   ]
  },
  {
   "cell_type": "code",
   "execution_count": 193,
   "id": "4b398c35-8dc3-45c1-b977-e145171b8cbd",
   "metadata": {},
   "outputs": [],
   "source": [
    "def edge_is_colored(g: nx.Graph, u: NodeType, v: NodeType) -> bool:\n",
    "    return 'color' in g[u][v].keys()\n",
    "def get_edge_color(g: nx.Graph, u: NodeType, v: NodeType) -> ColorType:\n",
    "    return e['color'] if 'color' in (e := g[u][v]).keys() else -1\n",
    "def set_edge_color(g: nx.Graph, u: NodeType, v: NodeType, c: ColorType) -> None:\n",
    "    g[u][v]['color'] = c\n",
    "def rm_edge_color(g: nx.Graph, u: NodeType, v: NodeType) -> None:\n",
    "    if 'color' in (e := g[u][v]).keys(): del e['color']\n",
    "def get_neigh_edge_colors(g: nx.Graph, v: NodeType) -> Sequence[ColorType]:\n",
    "    return [get_edge_color(g, u, v) for u, v in g.edges(v)]\n",
    "def get_edge_colors(g: nx.Graph) -> Sequence[ColorType]:\n",
    "    return [get_edge_color(g, u, v) for u, v in g.edges()]\n",
    "def color_is_free_at_vertex(g: nx.Graph, c: ColorType, v: NodeType) -> bool:\n",
    "    return c not in get_neigh_edge_colors(g, v)\n",
    "def next_color(c: ColorType = ColorType()) -> ColorType:\n",
    "    return c + 1\n",
    "\n",
    "def create_graph(\n",
    "    edge_list: Sequence[Tuple[NodeType, NodeType]],\n",
    "    view_options={\n",
    "        'node_color': '#A0CBE2',\n",
    "        'width': 2,\n",
    "        'edge_cmap': matplotlib.cm.Set2_r,\n",
    "        'with_labels': True,\n",
    "    }\n",
    "):\n",
    "    g = nx.Graph()\n",
    "    g.add_edges_from(edge_list)\n",
    "    pos = nx.circular_layout(g, scale=-1)\n",
    "    view_options |= {'pos': pos}\n",
    "    return g, view_options"
   ]
  },
  {
   "cell_type": "code",
   "execution_count": 194,
   "id": "dfd636d9-0cea-4ad2-91ac-fd2dcce108cc",
   "metadata": {},
   "outputs": [
    {
     "name": "stdout",
     "output_type": "stream",
     "text": [
      "True\n",
      "True\n",
      "True\n"
     ]
    }
   ],
   "source": [
    "edge_list = [\n",
    "    ('X', 'l'),\n",
    "    ('X', 'h'),\n",
    "    ('X', 'g'),\n",
    "    ('X', 'f'),\n",
    "    ('f', 'z'),\n",
    "    ('f', 'l')\n",
    "]\n",
    "\n",
    "g, GLOBAL_draw_options = create_graph(reversed(edge_list))\n",
    "\n",
    "print(color_is_free_at_vertex(g, 0, 'X'))\n",
    "print(color_is_free_at_vertex(g, 0, 'f'))\n",
    "print(color_is_free_at_vertex(g, -1, 'f'))\n",
    "# g['X']['g']['color'] = next_color()\n",
    "# g['X']['h']['color'] = next_color(next_color())\n",
    "# g['X']['l']['color'] = next_color(next_color(next_color()))\n",
    "# g['f']['z']['color'] = next_color()"
   ]
  },
  {
   "cell_type": "code",
   "execution_count": 123,
   "id": "a2e075e7-a63c-4be6-aaa2-b97f8e85d469",
   "metadata": {},
   "outputs": [],
   "source": [
    "# X, f = 'X', 'f'\n",
    "# X, f = 'f', 'l'\n",
    "# X, f = 'f', 'X'\n",
    "edges = set(g.edges)"
   ]
  },
  {
   "cell_type": "code",
   "execution_count": 189,
   "id": "eb716570-35e1-4355-919e-98126681c1ac",
   "metadata": {},
   "outputs": [
    {
     "name": "stdout",
     "output_type": "stream",
     "text": [
      "Done!\n"
     ]
    }
   ],
   "source": [
    "if not edges:\n",
    "    print('Done!')\n",
    "else: \n",
    "    X, f = next(iter(edges))\n",
    "    print(X, f)"
   ]
  },
  {
   "cell_type": "code",
   "execution_count": 202,
   "id": "dcfb8be4-78bd-4dbe-ab48-19cf2ba54578",
   "metadata": {},
   "outputs": [
    {
     "data": {
      "image/png": "[encoded data removed]",
      "text/plain": [
       "<Figure size 432x288 with 1 Axes>"
      ]
     },
     "metadata": {},
     "output_type": "display_data"
    }
   ],
   "source": [
    "def draw_g(g, draw_options=GLOBAL_draw_options):\n",
    "    nx.draw(g, edge_color=get_edge_colors(g), **draw_options)\n",
    "    edge_labels = nx.get_edge_attributes(g, 'color')\n",
    "    nx.draw_networkx_edge_labels(g, draw_options['pos'], edge_labels)\n",
    "\n",
    "draw_g(g)"
   ]
  },
  {
   "cell_type": "code",
   "execution_count": 183,
   "id": "bfe91a4a-1efa-465e-a7a7-0950c7b1e384",
   "metadata": {},
   "outputs": [
    {
     "data": {
      "text/plain": [
       "['z', 'l', 'X']"
      ]
     },
     "execution_count": 183,
     "metadata": {},
     "output_type": "execute_result"
    }
   ],
   "source": [
    "def find_maximal_fan(g, x, f):\n",
    "    fan_x = [f]\n",
    "    fan_is_maximal = True\n",
    "    while fan_is_maximal:\n",
    "        fan_is_maximal = False\n",
    "        for _, v in g.edges(x):\n",
    "            if (\n",
    "                edge_is_colored(g, x, v)\n",
    "                and color_is_free_at_vertex(g, get_edge_color(g, x, v), fan_x[-1])\n",
    "                and v not in fan_x\n",
    "            ):\n",
    "                fan_x.append(v)\n",
    "                fan_is_maximal = False\n",
    "    return fan_x\n",
    "\n",
    "\n",
    "fan_x = find_maximal_fan(g, X, f)\n",
    "fan_x"
   ]
  },
  {
   "cell_type": "code",
   "execution_count": 184,
   "id": "e6ba7d5b-1d5f-4622-b0a8-d2c1e81e256d",
   "metadata": {},
   "outputs": [
    {
     "data": {
      "text/plain": [
       "'c: 2, d: 3'"
      ]
     },
     "execution_count": 184,
     "metadata": {},
     "output_type": "execute_result"
    }
   ],
   "source": [
    "def find_colors_cd(g: nx.Graph, x: NodeType, fan_x: FanType):\n",
    "    l = fan_x[-1]\n",
    "    c = d = next_color()\n",
    "    while not color_is_free_at_vertex(g, c, x):\n",
    "        c = next_color(c)\n",
    "    while not color_is_free_at_vertex(g, d, l):\n",
    "        d = next_color(d)\n",
    "    return (c, d)\n",
    "\n",
    "\n",
    "c, d = find_colors_cd(g, X, fan_x)\n",
    "f'c: {c}, d: {d}'"
   ]
  },
  {
   "cell_type": "code",
   "execution_count": 185,
   "id": "3fc6906f-928e-4984-861a-d884a834de0c",
   "metadata": {},
   "outputs": [
    {
     "data": {
      "image/png": "[encoded data removed]",
      "text/plain": [
       "<Figure size 432x288 with 1 Axes>"
      ]
     },
     "metadata": {},
     "output_type": "display_data"
    }
   ],
   "source": [
    "def find_and_invert_cd_path(\n",
    "    g: nx.Graph, u: NodeType, c: ColorType, d: ColorType\n",
    ") -> int:\n",
    "    '''`u` is the `X` of the maximal fan.\n",
    "    returns length of cd-path'''\n",
    "    path_is_maximal = False\n",
    "    seen = {u}\n",
    "    while not path_is_maximal:\n",
    "        path_is_maximal = True\n",
    "        for v in g.neighbors(u):\n",
    "            if d == get_edge_color(g, u, v) and v not in seen:\n",
    "                set_edge_color(g, u, v, c)  # invert edge color\n",
    "                u = v  # set vertex for next iter\n",
    "                c, d = d, c  # swap colors\n",
    "                path_is_maximal = False  # to loop over the new vertex\n",
    "                seen |= {v}\n",
    "                break  # next iter\n",
    "    return len(seen) - 1\n",
    "\n",
    "\n",
    "# gcpy = g.copy()\n",
    "gcpy = g\n",
    "cd_path_len = find_and_invert_cd_path(gcpy, X, c, d)\n",
    "draw_g(gcpy)"
   ]
  },
  {
   "cell_type": "code",
   "execution_count": 186,
   "id": "aed7640e-74ca-460f-979b-702adb9fea18",
   "metadata": {},
   "outputs": [
    {
     "data": {
      "text/plain": [
       "(0, 'z')"
      ]
     },
     "execution_count": 186,
     "metadata": {},
     "output_type": "execute_result"
    }
   ],
   "source": [
    "def find_w_in_fan(g: nx.Graph, d: ColorType, fan_x: FanType) -> Tuple[int, NodeType]:\n",
    "    for i, u in enumerate(fan_x):\n",
    "        if color_is_free_at_vertex(g, d, u):\n",
    "            return (i, u)\n",
    "    return (-1, None)  # this line should be unreachable\n",
    "\n",
    "\n",
    "w_idx, w = find_w_in_fan(gcpy, d, fan_x) if cd_path_len else (len(fan_x) - 1, fan_x[-1])\n",
    "assert w_idx >= 0\n",
    "w_idx, w"
   ]
  },
  {
   "cell_type": "code",
   "execution_count": 187,
   "id": "9777de6a-f914-474b-b7c7-ce2360820ece",
   "metadata": {},
   "outputs": [
    {
     "name": "stdout",
     "output_type": "stream",
     "text": [
      "['z']\n"
     ]
    },
    {
     "data": {
      "image/png": "[encoded data removed]",
      "text/plain": [
       "<Figure size 432x288 with 1 Axes>"
      ]
     },
     "metadata": {},
     "output_type": "display_data"
    }
   ],
   "source": [
    "def rotate_fan(g: nx.Graph, x: NodeType, fan_prime_x: FanType) -> None:\n",
    "    print(fan_prime_x)\n",
    "    for u, v in zip(\n",
    "        fan_prime_x, fan_prime_x[1:]\n",
    "    ):  # zip(fan_prime_x[:-1], fan_prime_x[1:])\n",
    "        g[x][u]['color'] = get_edge_color(g, x, v)\n",
    "    rm_edge_color(\n",
    "        g, x, fan_prime_x[-1]\n",
    "    )  # Redundant since we set the edge's color after this function anyway.\n",
    "\n",
    "\n",
    "rotate_fan(gcpy, X, fan_x[: w_idx + 1])\n",
    "draw_g(gcpy)"
   ]
  },
  {
   "cell_type": "code",
   "execution_count": 188,
   "id": "df9a93f7-8998-4b81-b222-638de1526bde",
   "metadata": {},
   "outputs": [
    {
     "data": {
      "image/png": "[encoded data removed]",
      "text/plain": [
       "<Figure size 432x288 with 1 Axes>"
      ]
     },
     "metadata": {},
     "output_type": "display_data"
    }
   ],
   "source": [
    "set_edge_color(gcpy, X, w, d)\n",
    "edges -= {(X, f)}\n",
    "draw_g(gcpy)"
   ]
  }
 ],
 "metadata": {
  "kernelspec": {
   "display_name": "Python 3",
   "language": "python",
   "name": "python3"
  },
  "language_info": {
   "codemirror_mode": {
    "name": "ipython",
    "version": 3
   },
   "file_extension": ".py",
   "mimetype": "text/x-python",
   "name": "python",
   "nbconvert_exporter": "python",
   "pygments_lexer": "ipython3",
   "version": "3.9.5"
  }
 },
 "nbformat": 4,
 "nbformat_minor": 5
}
